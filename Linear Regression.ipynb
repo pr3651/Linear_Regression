{
 "cells": [
  {
   "cell_type": "markdown",
   "metadata": {},
   "source": [
    "## Import the libraries"
   ]
  },
  {
   "cell_type": "code",
   "execution_count": 1,
   "metadata": {},
   "outputs": [],
   "source": [
    "import warnings"
   ]
  },
  {
   "cell_type": "code",
   "execution_count": 2,
   "metadata": {},
   "outputs": [],
   "source": [
    "warnings.simplefilter('ignore')"
   ]
  },
  {
   "cell_type": "code",
   "execution_count": 3,
   "metadata": {},
   "outputs": [],
   "source": [
    "import numpy as np\n",
    "import pandas as pd"
   ]
  },
  {
   "cell_type": "code",
   "execution_count": 4,
   "metadata": {},
   "outputs": [],
   "source": [
    "import matplotlib.pyplot as plt\n",
    "%matplotlib inline"
   ]
  },
  {
   "cell_type": "markdown",
   "metadata": {},
   "source": [
    "## Import Dataset"
   ]
  },
  {
   "cell_type": "code",
   "execution_count": 5,
   "metadata": {},
   "outputs": [],
   "source": [
    "dataset=pd.read_csv('CarPrice_Predict.csv')"
   ]
  },
  {
   "cell_type": "markdown",
   "metadata": {},
   "source": [
    "## Understanding the Dataset"
   ]
  },
  {
   "cell_type": "code",
   "execution_count": 6,
   "metadata": {},
   "outputs": [
    {
     "data": {
      "text/plain": [
       "(205, 26)"
      ]
     },
     "execution_count": 6,
     "metadata": {},
     "output_type": "execute_result"
    }
   ],
   "source": [
    "dataset.shape"
   ]
  },
  {
   "cell_type": "code",
   "execution_count": 7,
   "metadata": {},
   "outputs": [
    {
     "data": {
      "text/html": [
       "<div>\n",
       "<style scoped>\n",
       "    .dataframe tbody tr th:only-of-type {\n",
       "        vertical-align: middle;\n",
       "    }\n",
       "\n",
       "    .dataframe tbody tr th {\n",
       "        vertical-align: top;\n",
       "    }\n",
       "\n",
       "    .dataframe thead th {\n",
       "        text-align: right;\n",
       "    }\n",
       "</style>\n",
       "<table border=\"1\" class=\"dataframe\">\n",
       "  <thead>\n",
       "    <tr style=\"text-align: right;\">\n",
       "      <th></th>\n",
       "      <th>car_ID</th>\n",
       "      <th>symboling</th>\n",
       "      <th>CarName</th>\n",
       "      <th>fueltype</th>\n",
       "      <th>aspiration</th>\n",
       "      <th>doornumber</th>\n",
       "      <th>carbody</th>\n",
       "      <th>drivewheel</th>\n",
       "      <th>enginelocation</th>\n",
       "      <th>wheelbase</th>\n",
       "      <th>...</th>\n",
       "      <th>enginesize</th>\n",
       "      <th>fuelsystem</th>\n",
       "      <th>boreratio</th>\n",
       "      <th>stroke</th>\n",
       "      <th>compressionratio</th>\n",
       "      <th>horsepower</th>\n",
       "      <th>peakrpm</th>\n",
       "      <th>citympg</th>\n",
       "      <th>highwaympg</th>\n",
       "      <th>price</th>\n",
       "    </tr>\n",
       "  </thead>\n",
       "  <tbody>\n",
       "    <tr>\n",
       "      <td>0</td>\n",
       "      <td>1</td>\n",
       "      <td>3</td>\n",
       "      <td>alfa-romero giulia</td>\n",
       "      <td>gas</td>\n",
       "      <td>std</td>\n",
       "      <td>two</td>\n",
       "      <td>convertible</td>\n",
       "      <td>rwd</td>\n",
       "      <td>front</td>\n",
       "      <td>88.6</td>\n",
       "      <td>...</td>\n",
       "      <td>130</td>\n",
       "      <td>mpfi</td>\n",
       "      <td>3.47</td>\n",
       "      <td>2.68</td>\n",
       "      <td>9.0</td>\n",
       "      <td>111</td>\n",
       "      <td>5000</td>\n",
       "      <td>21</td>\n",
       "      <td>27</td>\n",
       "      <td>13495.0</td>\n",
       "    </tr>\n",
       "    <tr>\n",
       "      <td>1</td>\n",
       "      <td>2</td>\n",
       "      <td>3</td>\n",
       "      <td>alfa-romero stelvio</td>\n",
       "      <td>gas</td>\n",
       "      <td>std</td>\n",
       "      <td>two</td>\n",
       "      <td>convertible</td>\n",
       "      <td>rwd</td>\n",
       "      <td>front</td>\n",
       "      <td>88.6</td>\n",
       "      <td>...</td>\n",
       "      <td>130</td>\n",
       "      <td>mpfi</td>\n",
       "      <td>3.47</td>\n",
       "      <td>2.68</td>\n",
       "      <td>9.0</td>\n",
       "      <td>111</td>\n",
       "      <td>5000</td>\n",
       "      <td>21</td>\n",
       "      <td>27</td>\n",
       "      <td>16500.0</td>\n",
       "    </tr>\n",
       "    <tr>\n",
       "      <td>2</td>\n",
       "      <td>3</td>\n",
       "      <td>1</td>\n",
       "      <td>alfa-romero Quadrifoglio</td>\n",
       "      <td>gas</td>\n",
       "      <td>std</td>\n",
       "      <td>two</td>\n",
       "      <td>hatchback</td>\n",
       "      <td>rwd</td>\n",
       "      <td>front</td>\n",
       "      <td>94.5</td>\n",
       "      <td>...</td>\n",
       "      <td>152</td>\n",
       "      <td>mpfi</td>\n",
       "      <td>2.68</td>\n",
       "      <td>3.47</td>\n",
       "      <td>9.0</td>\n",
       "      <td>154</td>\n",
       "      <td>5000</td>\n",
       "      <td>19</td>\n",
       "      <td>26</td>\n",
       "      <td>16500.0</td>\n",
       "    </tr>\n",
       "    <tr>\n",
       "      <td>3</td>\n",
       "      <td>4</td>\n",
       "      <td>2</td>\n",
       "      <td>audi 100 ls</td>\n",
       "      <td>gas</td>\n",
       "      <td>std</td>\n",
       "      <td>four</td>\n",
       "      <td>sedan</td>\n",
       "      <td>fwd</td>\n",
       "      <td>front</td>\n",
       "      <td>99.8</td>\n",
       "      <td>...</td>\n",
       "      <td>109</td>\n",
       "      <td>mpfi</td>\n",
       "      <td>3.19</td>\n",
       "      <td>3.40</td>\n",
       "      <td>10.0</td>\n",
       "      <td>102</td>\n",
       "      <td>5500</td>\n",
       "      <td>24</td>\n",
       "      <td>30</td>\n",
       "      <td>13950.0</td>\n",
       "    </tr>\n",
       "    <tr>\n",
       "      <td>4</td>\n",
       "      <td>5</td>\n",
       "      <td>2</td>\n",
       "      <td>audi 100ls</td>\n",
       "      <td>gas</td>\n",
       "      <td>std</td>\n",
       "      <td>four</td>\n",
       "      <td>sedan</td>\n",
       "      <td>4wd</td>\n",
       "      <td>front</td>\n",
       "      <td>99.4</td>\n",
       "      <td>...</td>\n",
       "      <td>136</td>\n",
       "      <td>mpfi</td>\n",
       "      <td>3.19</td>\n",
       "      <td>3.40</td>\n",
       "      <td>8.0</td>\n",
       "      <td>115</td>\n",
       "      <td>5500</td>\n",
       "      <td>18</td>\n",
       "      <td>22</td>\n",
       "      <td>17450.0</td>\n",
       "    </tr>\n",
       "  </tbody>\n",
       "</table>\n",
       "<p>5 rows × 26 columns</p>\n",
       "</div>"
      ],
      "text/plain": [
       "   car_ID  symboling                   CarName fueltype aspiration doornumber  \\\n",
       "0       1          3        alfa-romero giulia      gas        std        two   \n",
       "1       2          3       alfa-romero stelvio      gas        std        two   \n",
       "2       3          1  alfa-romero Quadrifoglio      gas        std        two   \n",
       "3       4          2               audi 100 ls      gas        std       four   \n",
       "4       5          2                audi 100ls      gas        std       four   \n",
       "\n",
       "       carbody drivewheel enginelocation  wheelbase  ...  enginesize  \\\n",
       "0  convertible        rwd          front       88.6  ...         130   \n",
       "1  convertible        rwd          front       88.6  ...         130   \n",
       "2    hatchback        rwd          front       94.5  ...         152   \n",
       "3        sedan        fwd          front       99.8  ...         109   \n",
       "4        sedan        4wd          front       99.4  ...         136   \n",
       "\n",
       "   fuelsystem  boreratio  stroke compressionratio horsepower  peakrpm citympg  \\\n",
       "0        mpfi       3.47    2.68              9.0        111     5000      21   \n",
       "1        mpfi       3.47    2.68              9.0        111     5000      21   \n",
       "2        mpfi       2.68    3.47              9.0        154     5000      19   \n",
       "3        mpfi       3.19    3.40             10.0        102     5500      24   \n",
       "4        mpfi       3.19    3.40              8.0        115     5500      18   \n",
       "\n",
       "   highwaympg    price  \n",
       "0          27  13495.0  \n",
       "1          27  16500.0  \n",
       "2          26  16500.0  \n",
       "3          30  13950.0  \n",
       "4          22  17450.0  \n",
       "\n",
       "[5 rows x 26 columns]"
      ]
     },
     "execution_count": 7,
     "metadata": {},
     "output_type": "execute_result"
    }
   ],
   "source": [
    "dataset.head()"
   ]
  },
  {
   "cell_type": "code",
   "execution_count": 8,
   "metadata": {},
   "outputs": [
    {
     "data": {
      "text/plain": [
       "Index(['car_ID', 'symboling', 'CarName', 'fueltype', 'aspiration',\n",
       "       'doornumber', 'carbody', 'drivewheel', 'enginelocation', 'wheelbase',\n",
       "       'carlength', 'carwidth', 'carheight', 'curbweight', 'enginetype',\n",
       "       'cylindernumber', 'enginesize', 'fuelsystem', 'boreratio', 'stroke',\n",
       "       'compressionratio', 'horsepower', 'peakrpm', 'citympg', 'highwaympg',\n",
       "       'price'],\n",
       "      dtype='object')"
      ]
     },
     "execution_count": 8,
     "metadata": {},
     "output_type": "execute_result"
    }
   ],
   "source": [
    "dataset.columns"
   ]
  },
  {
   "cell_type": "markdown",
   "metadata": {},
   "source": [
    "## Slicing the Dataset"
   ]
  },
  {
   "cell_type": "code",
   "execution_count": 9,
   "metadata": {},
   "outputs": [],
   "source": [
    "dataset = dataset.drop(['car_ID','symboling','CarName','fueltype','aspiration','doornumber','carbody','drivewheel','enginelocation','carlength','carwidth','carheight','curbweight','enginetype','cylindernumber','fuelsystem','boreratio','stroke','peakrpm','citympg','highwaympg'],axis=1)"
   ]
  },
  {
   "cell_type": "code",
   "execution_count": 10,
   "metadata": {},
   "outputs": [
    {
     "data": {
      "text/html": [
       "<div>\n",
       "<style scoped>\n",
       "    .dataframe tbody tr th:only-of-type {\n",
       "        vertical-align: middle;\n",
       "    }\n",
       "\n",
       "    .dataframe tbody tr th {\n",
       "        vertical-align: top;\n",
       "    }\n",
       "\n",
       "    .dataframe thead th {\n",
       "        text-align: right;\n",
       "    }\n",
       "</style>\n",
       "<table border=\"1\" class=\"dataframe\">\n",
       "  <thead>\n",
       "    <tr style=\"text-align: right;\">\n",
       "      <th></th>\n",
       "      <th>wheelbase</th>\n",
       "      <th>enginesize</th>\n",
       "      <th>compressionratio</th>\n",
       "      <th>horsepower</th>\n",
       "      <th>price</th>\n",
       "    </tr>\n",
       "  </thead>\n",
       "  <tbody>\n",
       "    <tr>\n",
       "      <td>0</td>\n",
       "      <td>88.6</td>\n",
       "      <td>130</td>\n",
       "      <td>9.0</td>\n",
       "      <td>111</td>\n",
       "      <td>13495.0</td>\n",
       "    </tr>\n",
       "    <tr>\n",
       "      <td>1</td>\n",
       "      <td>88.6</td>\n",
       "      <td>130</td>\n",
       "      <td>9.0</td>\n",
       "      <td>111</td>\n",
       "      <td>16500.0</td>\n",
       "    </tr>\n",
       "    <tr>\n",
       "      <td>2</td>\n",
       "      <td>94.5</td>\n",
       "      <td>152</td>\n",
       "      <td>9.0</td>\n",
       "      <td>154</td>\n",
       "      <td>16500.0</td>\n",
       "    </tr>\n",
       "    <tr>\n",
       "      <td>3</td>\n",
       "      <td>99.8</td>\n",
       "      <td>109</td>\n",
       "      <td>10.0</td>\n",
       "      <td>102</td>\n",
       "      <td>13950.0</td>\n",
       "    </tr>\n",
       "    <tr>\n",
       "      <td>4</td>\n",
       "      <td>99.4</td>\n",
       "      <td>136</td>\n",
       "      <td>8.0</td>\n",
       "      <td>115</td>\n",
       "      <td>17450.0</td>\n",
       "    </tr>\n",
       "  </tbody>\n",
       "</table>\n",
       "</div>"
      ],
      "text/plain": [
       "   wheelbase  enginesize  compressionratio  horsepower    price\n",
       "0       88.6         130               9.0         111  13495.0\n",
       "1       88.6         130               9.0         111  16500.0\n",
       "2       94.5         152               9.0         154  16500.0\n",
       "3       99.8         109              10.0         102  13950.0\n",
       "4       99.4         136               8.0         115  17450.0"
      ]
     },
     "execution_count": 10,
     "metadata": {},
     "output_type": "execute_result"
    }
   ],
   "source": [
    "dataset.head()"
   ]
  },
  {
   "cell_type": "markdown",
   "metadata": {},
   "source": [
    "## Segregate and shape the dataset"
   ]
  },
  {
   "cell_type": "code",
   "execution_count": 11,
   "metadata": {},
   "outputs": [],
   "source": [
    "x=dataset.iloc[:,3].values.reshape(-1,1)"
   ]
  },
  {
   "cell_type": "code",
   "execution_count": 12,
   "metadata": {},
   "outputs": [
    {
     "data": {
      "text/plain": [
       "(205, 1)"
      ]
     },
     "execution_count": 12,
     "metadata": {},
     "output_type": "execute_result"
    }
   ],
   "source": [
    "x.shape"
   ]
  },
  {
   "cell_type": "code",
   "execution_count": 13,
   "metadata": {},
   "outputs": [
    {
     "data": {
      "text/plain": [
       "array([[111],\n",
       "       [111],\n",
       "       [154],\n",
       "       [102],\n",
       "       [115],\n",
       "       [110],\n",
       "       [110],\n",
       "       [110],\n",
       "       [140],\n",
       "       [160],\n",
       "       [101],\n",
       "       [101],\n",
       "       [121],\n",
       "       [121],\n",
       "       [121],\n",
       "       [182],\n",
       "       [182],\n",
       "       [182],\n",
       "       [ 48],\n",
       "       [ 70],\n",
       "       [ 70],\n",
       "       [ 68],\n",
       "       [ 68],\n",
       "       [102],\n",
       "       [ 68],\n",
       "       [ 68],\n",
       "       [ 68],\n",
       "       [102],\n",
       "       [ 88],\n",
       "       [145],\n",
       "       [ 58],\n",
       "       [ 76],\n",
       "       [ 60],\n",
       "       [ 76],\n",
       "       [ 76],\n",
       "       [ 76],\n",
       "       [ 76],\n",
       "       [ 86],\n",
       "       [ 86],\n",
       "       [ 86],\n",
       "       [ 86],\n",
       "       [101],\n",
       "       [100],\n",
       "       [ 78],\n",
       "       [ 70],\n",
       "       [ 70],\n",
       "       [ 90],\n",
       "       [176],\n",
       "       [176],\n",
       "       [262],\n",
       "       [ 68],\n",
       "       [ 68],\n",
       "       [ 68],\n",
       "       [ 68],\n",
       "       [ 68],\n",
       "       [101],\n",
       "       [101],\n",
       "       [101],\n",
       "       [135],\n",
       "       [ 84],\n",
       "       [ 84],\n",
       "       [ 84],\n",
       "       [ 84],\n",
       "       [ 64],\n",
       "       [ 84],\n",
       "       [120],\n",
       "       [ 72],\n",
       "       [123],\n",
       "       [123],\n",
       "       [123],\n",
       "       [123],\n",
       "       [155],\n",
       "       [155],\n",
       "       [184],\n",
       "       [184],\n",
       "       [175],\n",
       "       [ 68],\n",
       "       [ 68],\n",
       "       [ 68],\n",
       "       [102],\n",
       "       [116],\n",
       "       [ 88],\n",
       "       [145],\n",
       "       [145],\n",
       "       [145],\n",
       "       [ 88],\n",
       "       [ 88],\n",
       "       [116],\n",
       "       [116],\n",
       "       [ 69],\n",
       "       [ 55],\n",
       "       [ 69],\n",
       "       [ 69],\n",
       "       [ 69],\n",
       "       [ 69],\n",
       "       [ 69],\n",
       "       [ 69],\n",
       "       [ 69],\n",
       "       [ 69],\n",
       "       [ 97],\n",
       "       [ 97],\n",
       "       [152],\n",
       "       [152],\n",
       "       [152],\n",
       "       [160],\n",
       "       [200],\n",
       "       [160],\n",
       "       [ 97],\n",
       "       [ 95],\n",
       "       [ 97],\n",
       "       [ 95],\n",
       "       [ 95],\n",
       "       [ 95],\n",
       "       [ 95],\n",
       "       [ 95],\n",
       "       [ 97],\n",
       "       [ 95],\n",
       "       [142],\n",
       "       [ 68],\n",
       "       [102],\n",
       "       [ 68],\n",
       "       [ 68],\n",
       "       [ 68],\n",
       "       [ 88],\n",
       "       [145],\n",
       "       [143],\n",
       "       [207],\n",
       "       [207],\n",
       "       [207],\n",
       "       [288],\n",
       "       [ 90],\n",
       "       [ 90],\n",
       "       [110],\n",
       "       [110],\n",
       "       [110],\n",
       "       [110],\n",
       "       [160],\n",
       "       [160],\n",
       "       [ 69],\n",
       "       [ 73],\n",
       "       [ 73],\n",
       "       [ 82],\n",
       "       [ 82],\n",
       "       [ 94],\n",
       "       [ 82],\n",
       "       [111],\n",
       "       [ 82],\n",
       "       [ 94],\n",
       "       [ 82],\n",
       "       [111],\n",
       "       [ 62],\n",
       "       [ 62],\n",
       "       [ 62],\n",
       "       [ 62],\n",
       "       [ 62],\n",
       "       [ 62],\n",
       "       [ 70],\n",
       "       [ 70],\n",
       "       [ 56],\n",
       "       [ 56],\n",
       "       [ 70],\n",
       "       [ 70],\n",
       "       [ 70],\n",
       "       [ 70],\n",
       "       [ 70],\n",
       "       [112],\n",
       "       [112],\n",
       "       [116],\n",
       "       [116],\n",
       "       [116],\n",
       "       [116],\n",
       "       [116],\n",
       "       [116],\n",
       "       [ 92],\n",
       "       [ 73],\n",
       "       [ 92],\n",
       "       [ 92],\n",
       "       [ 92],\n",
       "       [161],\n",
       "       [161],\n",
       "       [156],\n",
       "       [156],\n",
       "       [ 52],\n",
       "       [ 85],\n",
       "       [ 52],\n",
       "       [ 85],\n",
       "       [ 85],\n",
       "       [ 68],\n",
       "       [100],\n",
       "       [ 90],\n",
       "       [ 90],\n",
       "       [110],\n",
       "       [ 68],\n",
       "       [ 88],\n",
       "       [114],\n",
       "       [114],\n",
       "       [114],\n",
       "       [114],\n",
       "       [162],\n",
       "       [162],\n",
       "       [114],\n",
       "       [160],\n",
       "       [134],\n",
       "       [106],\n",
       "       [114]], dtype=int64)"
      ]
     },
     "execution_count": 13,
     "metadata": {},
     "output_type": "execute_result"
    }
   ],
   "source": [
    "x"
   ]
  },
  {
   "cell_type": "code",
   "execution_count": 14,
   "metadata": {},
   "outputs": [],
   "source": [
    "y=dataset.iloc[:,-1].values.reshape(-1,1)"
   ]
  },
  {
   "cell_type": "code",
   "execution_count": 15,
   "metadata": {},
   "outputs": [
    {
     "data": {
      "text/plain": [
       "(205, 1)"
      ]
     },
     "execution_count": 15,
     "metadata": {},
     "output_type": "execute_result"
    }
   ],
   "source": [
    "y.shape"
   ]
  },
  {
   "cell_type": "markdown",
   "metadata": {},
   "source": [
    "## Scatter Plot"
   ]
  },
  {
   "cell_type": "code",
   "execution_count": 16,
   "metadata": {},
   "outputs": [
    {
     "data": {
      "image/png": "[encoded data removed]",
      "text/plain": [
       "<Figure size 432x288 with 1 Axes>"
      ]
     },
     "metadata": {
      "needs_background": "light"
     },
     "output_type": "display_data"
    }
   ],
   "source": [
    "plt.scatter(x,y)\n",
    "plt.show()"
   ]
  },
  {
   "cell_type": "markdown",
   "metadata": {},
   "source": [
    "## Divide the dataset into Training and Testing sets"
   ]
  },
  {
   "cell_type": "code",
   "execution_count": 17,
   "metadata": {},
   "outputs": [],
   "source": [
    "from sklearn.model_selection import train_test_split"
   ]
  },
  {
   "cell_type": "code",
   "execution_count": 18,
   "metadata": {},
   "outputs": [],
   "source": [
    "x_train,x_test,y_train,y_test=train_test_split(x,y,test_size=0.2,random_state=0)                   #split the DATASET"
   ]
  },
  {
   "cell_type": "code",
   "execution_count": 19,
   "metadata": {},
   "outputs": [
    {
     "data": {
      "text/plain": [
       "(164, 1)"
      ]
     },
     "execution_count": 19,
     "metadata": {},
     "output_type": "execute_result"
    }
   ],
   "source": [
    "x_train.shape"
   ]
  },
  {
   "cell_type": "code",
   "execution_count": 20,
   "metadata": {},
   "outputs": [
    {
     "data": {
      "text/plain": [
       "(41, 1)"
      ]
     },
     "execution_count": 20,
     "metadata": {},
     "output_type": "execute_result"
    }
   ],
   "source": [
    "x_test.shape"
   ]
  },
  {
   "cell_type": "code",
   "execution_count": 21,
   "metadata": {},
   "outputs": [
    {
     "data": {
      "text/plain": [
       "(164, 1)"
      ]
     },
     "execution_count": 21,
     "metadata": {},
     "output_type": "execute_result"
    }
   ],
   "source": [
    "y_train.shape"
   ]
  },
  {
   "cell_type": "code",
   "execution_count": 22,
   "metadata": {},
   "outputs": [
    {
     "data": {
      "text/plain": [
       "(41, 1)"
      ]
     },
     "execution_count": 22,
     "metadata": {},
     "output_type": "execute_result"
    }
   ],
   "source": [
    "y_test.shape"
   ]
  },
  {
   "cell_type": "markdown",
   "metadata": {},
   "source": [
    "# Perform Linear Regression"
   ]
  },
  {
   "cell_type": "markdown",
   "metadata": {},
   "source": [
    "## Import the function"
   ]
  },
  {
   "cell_type": "code",
   "execution_count": 23,
   "metadata": {},
   "outputs": [],
   "source": [
    "from sklearn.linear_model import LinearRegression"
   ]
  },
  {
   "cell_type": "code",
   "execution_count": 24,
   "metadata": {},
   "outputs": [],
   "source": [
    "lm= LinearRegression()"
   ]
  },
  {
   "cell_type": "code",
   "execution_count": 25,
   "metadata": {},
   "outputs": [
    {
     "data": {
      "text/plain": [
       "LinearRegression(copy_X=True, fit_intercept=True, n_jobs=None, normalize=False)"
      ]
     },
     "execution_count": 25,
     "metadata": {},
     "output_type": "execute_result"
    }
   ],
   "source": [
    "lm.fit(x_train,y_train)"
   ]
  },
  {
   "cell_type": "markdown",
   "metadata": {},
   "source": [
    "## Predict the price"
   ]
  },
  {
   "cell_type": "code",
   "execution_count": 29,
   "metadata": {},
   "outputs": [],
   "source": [
    "y_pred=lm.predict(x_test)"
   ]
  },
  {
   "cell_type": "code",
   "execution_count": 30,
   "metadata": {},
   "outputs": [
    {
     "data": {
      "text/plain": [
       "array([[ 7278.99509319],\n",
       "       [21944.12789439],\n",
       "       [14278.26302103],\n",
       "       [ 3946.01036564],\n",
       "       [12611.77065726],\n",
       "       [15278.1584393 ],\n",
       "       [ 7278.99509319],\n",
       "       [ 6279.09967493],\n",
       "       [22610.72483989],\n",
       "       [ 8612.18898421],\n",
       "       [16111.40462118],\n",
       "       [43941.82709618],\n",
       "       [12778.41989364],\n",
       "       [ 7945.5920387 ],\n",
       "       [ 7612.29356594],\n",
       "       [15278.1584393 ],\n",
       "       [10945.27829349],\n",
       "       [14278.26302103],\n",
       "       [10278.68134798],\n",
       "       [ 6279.09967493],\n",
       "       [15278.1584393 ],\n",
       "       [11778.52447537],\n",
       "       [10945.27829349],\n",
       "       [15278.1584393 ],\n",
       "       [22777.37407627],\n",
       "       [ 7445.64432957],\n",
       "       [ 7612.29356594],\n",
       "       [11778.52447537],\n",
       "       [ 7612.29356594],\n",
       "       [ 7445.64432957],\n",
       "       [10112.0321116 ],\n",
       "       [10611.97982073],\n",
       "       [19777.68782148],\n",
       "       [11278.57676624],\n",
       "       [ 7445.64432957],\n",
       "       [26277.00804019],\n",
       "       [10945.27829349],\n",
       "       [22610.72483989],\n",
       "       [ 7278.99509319],\n",
       "       [26610.30651295],\n",
       "       [ 7612.29356594]])"
      ]
     },
     "execution_count": 30,
     "metadata": {},
     "output_type": "execute_result"
    }
   ],
   "source": [
    "y_pred"
   ]
  },
  {
   "cell_type": "markdown",
   "metadata": {},
   "source": [
    "## Visualize the Regressor line"
   ]
  },
  {
   "cell_type": "code",
   "execution_count": 31,
   "metadata": {},
   "outputs": [
    {
     "data": {
      "image/png": "[encoded data removed]",
      "text/plain": [
       "<Figure size 432x288 with 1 Axes>"
      ]
     },
     "metadata": {
      "needs_background": "light"
     },
     "output_type": "display_data"
    }
   ],
   "source": [
    "plt.scatter(x,y,color='blue')\n",
    "plt.plot(x_test,y_pred,color='red')\n",
    "plt.show()"
   ]
  },
  {
   "cell_type": "markdown",
   "metadata": {},
   "source": [
    "## Final Check"
   ]
  },
  {
   "cell_type": "code",
   "execution_count": 32,
   "metadata": {},
   "outputs": [],
   "source": [
    "check=pd.DataFrame(x_test,columns=['horsepower'])"
   ]
  },
  {
   "cell_type": "code",
   "execution_count": 33,
   "metadata": {},
   "outputs": [],
   "source": [
    "check['COA Actual']=y_test"
   ]
  },
  {
   "cell_type": "code",
   "execution_count": 34,
   "metadata": {},
   "outputs": [],
   "source": [
    "check['COA Predicted']=y_pred"
   ]
  },
  {
   "cell_type": "code",
   "execution_count": 35,
   "metadata": {},
   "outputs": [
    {
     "data": {
      "text/html": [
       "<div>\n",
       "<style scoped>\n",
       "    .dataframe tbody tr th:only-of-type {\n",
       "        vertical-align: middle;\n",
       "    }\n",
       "\n",
       "    .dataframe tbody tr th {\n",
       "        vertical-align: top;\n",
       "    }\n",
       "\n",
       "    .dataframe thead th {\n",
       "        text-align: right;\n",
       "    }\n",
       "</style>\n",
       "<table border=\"1\" class=\"dataframe\">\n",
       "  <thead>\n",
       "    <tr style=\"text-align: right;\">\n",
       "      <th></th>\n",
       "      <th>horsepower</th>\n",
       "      <th>COA Actual</th>\n",
       "      <th>COA Predicted</th>\n",
       "    </tr>\n",
       "  </thead>\n",
       "  <tbody>\n",
       "    <tr>\n",
       "      <td>0</td>\n",
       "      <td>68</td>\n",
       "      <td>6795.0</td>\n",
       "      <td>7278.995093</td>\n",
       "    </tr>\n",
       "    <tr>\n",
       "      <td>1</td>\n",
       "      <td>156</td>\n",
       "      <td>15750.0</td>\n",
       "      <td>21944.127894</td>\n",
       "    </tr>\n",
       "    <tr>\n",
       "      <td>2</td>\n",
       "      <td>110</td>\n",
       "      <td>15250.0</td>\n",
       "      <td>14278.263021</td>\n",
       "    </tr>\n",
       "    <tr>\n",
       "      <td>3</td>\n",
       "      <td>48</td>\n",
       "      <td>5151.0</td>\n",
       "      <td>3946.010366</td>\n",
       "    </tr>\n",
       "    <tr>\n",
       "      <td>4</td>\n",
       "      <td>100</td>\n",
       "      <td>9995.0</td>\n",
       "      <td>12611.770657</td>\n",
       "    </tr>\n",
       "    <tr>\n",
       "      <td>5</td>\n",
       "      <td>116</td>\n",
       "      <td>11199.0</td>\n",
       "      <td>15278.158439</td>\n",
       "    </tr>\n",
       "    <tr>\n",
       "      <td>6</td>\n",
       "      <td>68</td>\n",
       "      <td>5389.0</td>\n",
       "      <td>7278.995093</td>\n",
       "    </tr>\n",
       "    <tr>\n",
       "      <td>7</td>\n",
       "      <td>62</td>\n",
       "      <td>7898.0</td>\n",
       "      <td>6279.099675</td>\n",
       "    </tr>\n",
       "    <tr>\n",
       "      <td>8</td>\n",
       "      <td>160</td>\n",
       "      <td>17199.0</td>\n",
       "      <td>22610.724840</td>\n",
       "    </tr>\n",
       "    <tr>\n",
       "      <td>9</td>\n",
       "      <td>76</td>\n",
       "      <td>6529.0</td>\n",
       "      <td>8612.188984</td>\n",
       "    </tr>\n",
       "    <tr>\n",
       "      <td>10</td>\n",
       "      <td>121</td>\n",
       "      <td>20970.0</td>\n",
       "      <td>16111.404621</td>\n",
       "    </tr>\n",
       "    <tr>\n",
       "      <td>11</td>\n",
       "      <td>288</td>\n",
       "      <td>31400.5</td>\n",
       "      <td>43941.827096</td>\n",
       "    </tr>\n",
       "    <tr>\n",
       "      <td>12</td>\n",
       "      <td>101</td>\n",
       "      <td>10945.0</td>\n",
       "      <td>12778.419894</td>\n",
       "    </tr>\n",
       "    <tr>\n",
       "      <td>13</td>\n",
       "      <td>72</td>\n",
       "      <td>18344.0</td>\n",
       "      <td>7945.592039</td>\n",
       "    </tr>\n",
       "    <tr>\n",
       "      <td>14</td>\n",
       "      <td>70</td>\n",
       "      <td>8916.5</td>\n",
       "      <td>7612.293566</td>\n",
       "    </tr>\n",
       "    <tr>\n",
       "      <td>15</td>\n",
       "      <td>116</td>\n",
       "      <td>9989.0</td>\n",
       "      <td>15278.158439</td>\n",
       "    </tr>\n",
       "    <tr>\n",
       "      <td>16</td>\n",
       "      <td>90</td>\n",
       "      <td>9295.0</td>\n",
       "      <td>10945.278293</td>\n",
       "    </tr>\n",
       "    <tr>\n",
       "      <td>17</td>\n",
       "      <td>110</td>\n",
       "      <td>18920.0</td>\n",
       "      <td>14278.263021</td>\n",
       "    </tr>\n",
       "    <tr>\n",
       "      <td>18</td>\n",
       "      <td>86</td>\n",
       "      <td>7895.0</td>\n",
       "      <td>10278.681348</td>\n",
       "    </tr>\n",
       "    <tr>\n",
       "      <td>19</td>\n",
       "      <td>62</td>\n",
       "      <td>6488.0</td>\n",
       "      <td>6279.099675</td>\n",
       "    </tr>\n",
       "    <tr>\n",
       "      <td>20</td>\n",
       "      <td>116</td>\n",
       "      <td>9959.0</td>\n",
       "      <td>15278.158439</td>\n",
       "    </tr>\n",
       "    <tr>\n",
       "      <td>21</td>\n",
       "      <td>95</td>\n",
       "      <td>15580.0</td>\n",
       "      <td>11778.524475</td>\n",
       "    </tr>\n",
       "    <tr>\n",
       "      <td>22</td>\n",
       "      <td>90</td>\n",
       "      <td>9895.0</td>\n",
       "      <td>10945.278293</td>\n",
       "    </tr>\n",
       "    <tr>\n",
       "      <td>23</td>\n",
       "      <td>116</td>\n",
       "      <td>11549.0</td>\n",
       "      <td>15278.158439</td>\n",
       "    </tr>\n",
       "    <tr>\n",
       "      <td>24</td>\n",
       "      <td>161</td>\n",
       "      <td>15998.0</td>\n",
       "      <td>22777.374076</td>\n",
       "    </tr>\n",
       "    <tr>\n",
       "      <td>25</td>\n",
       "      <td>69</td>\n",
       "      <td>5118.0</td>\n",
       "      <td>7445.644330</td>\n",
       "    </tr>\n",
       "    <tr>\n",
       "      <td>26</td>\n",
       "      <td>70</td>\n",
       "      <td>6938.0</td>\n",
       "      <td>7612.293566</td>\n",
       "    </tr>\n",
       "    <tr>\n",
       "      <td>27</td>\n",
       "      <td>95</td>\n",
       "      <td>16695.0</td>\n",
       "      <td>11778.524475</td>\n",
       "    </tr>\n",
       "    <tr>\n",
       "      <td>28</td>\n",
       "      <td>70</td>\n",
       "      <td>8358.0</td>\n",
       "      <td>7612.293566</td>\n",
       "    </tr>\n",
       "    <tr>\n",
       "      <td>29</td>\n",
       "      <td>69</td>\n",
       "      <td>5499.0</td>\n",
       "      <td>7445.644330</td>\n",
       "    </tr>\n",
       "    <tr>\n",
       "      <td>30</td>\n",
       "      <td>85</td>\n",
       "      <td>7975.0</td>\n",
       "      <td>10112.032112</td>\n",
       "    </tr>\n",
       "    <tr>\n",
       "      <td>31</td>\n",
       "      <td>88</td>\n",
       "      <td>12290.0</td>\n",
       "      <td>10611.979821</td>\n",
       "    </tr>\n",
       "    <tr>\n",
       "      <td>32</td>\n",
       "      <td>143</td>\n",
       "      <td>22018.0</td>\n",
       "      <td>19777.687821</td>\n",
       "    </tr>\n",
       "    <tr>\n",
       "      <td>33</td>\n",
       "      <td>92</td>\n",
       "      <td>8948.0</td>\n",
       "      <td>11278.576766</td>\n",
       "    </tr>\n",
       "    <tr>\n",
       "      <td>34</td>\n",
       "      <td>69</td>\n",
       "      <td>6849.0</td>\n",
       "      <td>7445.644330</td>\n",
       "    </tr>\n",
       "    <tr>\n",
       "      <td>35</td>\n",
       "      <td>182</td>\n",
       "      <td>41315.0</td>\n",
       "      <td>26277.008040</td>\n",
       "    </tr>\n",
       "    <tr>\n",
       "      <td>36</td>\n",
       "      <td>90</td>\n",
       "      <td>11595.0</td>\n",
       "      <td>10945.278293</td>\n",
       "    </tr>\n",
       "    <tr>\n",
       "      <td>37</td>\n",
       "      <td>160</td>\n",
       "      <td>18150.0</td>\n",
       "      <td>22610.724840</td>\n",
       "    </tr>\n",
       "    <tr>\n",
       "      <td>38</td>\n",
       "      <td>68</td>\n",
       "      <td>6377.0</td>\n",
       "      <td>7278.995093</td>\n",
       "    </tr>\n",
       "    <tr>\n",
       "      <td>39</td>\n",
       "      <td>184</td>\n",
       "      <td>45400.0</td>\n",
       "      <td>26610.306513</td>\n",
       "    </tr>\n",
       "    <tr>\n",
       "      <td>40</td>\n",
       "      <td>70</td>\n",
       "      <td>8916.5</td>\n",
       "      <td>7612.293566</td>\n",
       "    </tr>\n",
       "  </tbody>\n",
       "</table>\n",
       "</div>"
      ],
      "text/plain": [
       "    horsepower  COA Actual  COA Predicted\n",
       "0           68      6795.0    7278.995093\n",
       "1          156     15750.0   21944.127894\n",
       "2          110     15250.0   14278.263021\n",
       "3           48      5151.0    3946.010366\n",
       "4          100      9995.0   12611.770657\n",
       "5          116     11199.0   15278.158439\n",
       "6           68      5389.0    7278.995093\n",
       "7           62      7898.0    6279.099675\n",
       "8          160     17199.0   22610.724840\n",
       "9           76      6529.0    8612.188984\n",
       "10         121     20970.0   16111.404621\n",
       "11         288     31400.5   43941.827096\n",
       "12         101     10945.0   12778.419894\n",
       "13          72     18344.0    7945.592039\n",
       "14          70      8916.5    7612.293566\n",
       "15         116      9989.0   15278.158439\n",
       "16          90      9295.0   10945.278293\n",
       "17         110     18920.0   14278.263021\n",
       "18          86      7895.0   10278.681348\n",
       "19          62      6488.0    6279.099675\n",
       "20         116      9959.0   15278.158439\n",
       "21          95     15580.0   11778.524475\n",
       "22          90      9895.0   10945.278293\n",
       "23         116     11549.0   15278.158439\n",
       "24         161     15998.0   22777.374076\n",
       "25          69      5118.0    7445.644330\n",
       "26          70      6938.0    7612.293566\n",
       "27          95     16695.0   11778.524475\n",
       "28          70      8358.0    7612.293566\n",
       "29          69      5499.0    7445.644330\n",
       "30          85      7975.0   10112.032112\n",
       "31          88     12290.0   10611.979821\n",
       "32         143     22018.0   19777.687821\n",
       "33          92      8948.0   11278.576766\n",
       "34          69      6849.0    7445.644330\n",
       "35         182     41315.0   26277.008040\n",
       "36          90     11595.0   10945.278293\n",
       "37         160     18150.0   22610.724840\n",
       "38          68      6377.0    7278.995093\n",
       "39         184     45400.0   26610.306513\n",
       "40          70      8916.5    7612.293566"
      ]
     },
     "execution_count": 35,
     "metadata": {},
     "output_type": "execute_result"
    }
   ],
   "source": [
    "check"
   ]
  },
  {
   "cell_type": "code",
   "execution_count": null,
   "metadata": {},
   "outputs": [],
   "source": []
  }
 ],
 "metadata": {
  "kernelspec": {
   "display_name": "Python 3",
   "language": "python",
   "name": "python3"
  },
  "language_info": {
   "codemirror_mode": {
    "name": "ipython",
    "version": 3
   },
   "file_extension": ".py",
   "mimetype": "text/x-python",
   "name": "python",
   "nbconvert_exporter": "python",
   "pygments_lexer": "ipython3",
   "version": "3.7.4"
  }
 },
 "nbformat": 4,
 "nbformat_minor": 2
}
